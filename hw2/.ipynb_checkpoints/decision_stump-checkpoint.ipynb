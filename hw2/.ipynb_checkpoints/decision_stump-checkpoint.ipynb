{
 "cells": [
  {
   "cell_type": "code",
   "execution_count": 1,
   "metadata": {},
   "outputs": [],
   "source": [
    "import numpy as np"
   ]
  },
  {
   "cell_type": "code",
   "execution_count": 2,
   "metadata": {},
   "outputs": [],
   "source": [
    "def generate_data(n):\n",
    "    X = np.random.uniform(-1, 1, n)\n",
    "    y = np.sign(X)\n",
    "    y[y == 0] = -1\n",
    "    noise = np.random.uniform(0, 1, 20)\n",
    "    y[noise <= 0.2] *= -1\n",
    "    return X, y"
   ]
  },
  {
   "cell_type": "code",
   "execution_count": 3,
   "metadata": {},
   "outputs": [],
   "source": [
    "n = 20\n",
    "X, y = generate_data(n)"
   ]
  },
  {
   "cell_type": "code",
   "execution_count": 4,
   "metadata": {},
   "outputs": [
    {
     "name": "stdout",
     "output_type": "stream",
     "text": [
      "[ 0.64861376  0.19209039  0.88617672  0.65745168  0.16263194  0.69747568\n",
      " -0.24027285 -0.82851049  0.89709643 -0.14140749 -0.06953078 -0.63502654\n",
      " -0.01689799 -0.20845739 -0.74415017 -0.08900498 -0.44459655 -0.36137167\n",
      "  0.94130754 -0.58257041]\n",
      "[ 1.  1.  1.  1.  1.  1. -1.  1.  1. -1. -1. -1. -1. -1. -1. -1. -1. -1.\n",
      "  1. -1.]\n"
     ]
    }
   ],
   "source": [
    "print(X)\n",
    "print(y)"
   ]
  },
  {
   "cell_type": "code",
   "execution_count": 5,
   "metadata": {},
   "outputs": [],
   "source": [
    "def decision_stump(X, y):\n",
    "    n = y.shape[0]\n",
    "    all_X = np.tile(X, (n, 1))\n",
    "    diff = all_X - all_X.T\n",
    "    predict = np.sign(diff)\n",
    "    predict[predict == 0] = -1\n",
    "    err = (predict!=y).astype(int)\n",
    "    total_err = np.sum(err, axis=1)\n",
    "    if np.min(total_err) < n-np.max(total_err): #consider s=1 or s=-1 are opposite\n",
    "        return 1, X[np.argmin(total_err)], np.min(total_err)/n\n",
    "    else:\n",
    "        return -1, X[np.argmax(total_err)], (n-np.max(total_err))/n"
   ]
  },
  {
   "cell_type": "code",
   "execution_count": 6,
   "metadata": {},
   "outputs": [],
   "source": [
    "def train_5000(n):\n",
    "    e_in = 0\n",
    "    e_out = 0\n",
    "    for i in np.arange(5000):\n",
    "        np.random.seed(i)\n",
    "        X, y = generate_data(n)\n",
    "        s, theta, e = decision_stump(X, y)\n",
    "        e_in += e\n",
    "        e_out += 0.5+0.3*s*(abs(theta)-1)\n",
    "    return e_in/5000, e_out/5000"
   ]
  },
  {
   "cell_type": "code",
   "execution_count": 7,
   "metadata": {},
   "outputs": [
    {
     "data": {
      "text/plain": [
       "(0.16926000000000044, 0.26562358904000427)"
      ]
     },
     "execution_count": 7,
     "metadata": {},
     "output_type": "execute_result"
    }
   ],
   "source": [
    "train_5000(n)"
   ]
  },
  {
   "cell_type": "code",
   "execution_count": 8,
   "metadata": {},
   "outputs": [
    {
     "data": {
      "text/html": [
       "<div>\n",
       "<style scoped>\n",
       "    .dataframe tbody tr th:only-of-type {\n",
       "        vertical-align: middle;\n",
       "    }\n",
       "\n",
       "    .dataframe tbody tr th {\n",
       "        vertical-align: top;\n",
       "    }\n",
       "\n",
       "    .dataframe thead th {\n",
       "        text-align: right;\n",
       "    }\n",
       "</style>\n",
       "<table border=\"1\" class=\"dataframe\">\n",
       "  <thead>\n",
       "    <tr style=\"text-align: right;\">\n",
       "      <th></th>\n",
       "      <th>x1</th>\n",
       "      <th>x2</th>\n",
       "      <th>x3</th>\n",
       "      <th>x4</th>\n",
       "      <th>x5</th>\n",
       "      <th>x6</th>\n",
       "      <th>x7</th>\n",
       "      <th>x8</th>\n",
       "      <th>x9</th>\n",
       "      <th>y</th>\n",
       "    </tr>\n",
       "  </thead>\n",
       "  <tbody>\n",
       "    <tr>\n",
       "      <th>0</th>\n",
       "      <td>8.105</td>\n",
       "      <td>-3.500</td>\n",
       "      <td>4.769</td>\n",
       "      <td>4.541</td>\n",
       "      <td>-9.829</td>\n",
       "      <td>5.252</td>\n",
       "      <td>3.838</td>\n",
       "      <td>-3.408</td>\n",
       "      <td>-4.824</td>\n",
       "      <td>-1</td>\n",
       "    </tr>\n",
       "    <tr>\n",
       "      <th>1</th>\n",
       "      <td>-6.273</td>\n",
       "      <td>-2.097</td>\n",
       "      <td>9.404</td>\n",
       "      <td>1.143</td>\n",
       "      <td>3.487</td>\n",
       "      <td>-5.206</td>\n",
       "      <td>0.061</td>\n",
       "      <td>5.024</td>\n",
       "      <td>-6.687</td>\n",
       "      <td>1</td>\n",
       "    </tr>\n",
       "    <tr>\n",
       "      <th>2</th>\n",
       "      <td>1.624</td>\n",
       "      <td>-1.173</td>\n",
       "      <td>4.260</td>\n",
       "      <td>-3.607</td>\n",
       "      <td>-6.632</td>\n",
       "      <td>4.431</td>\n",
       "      <td>-8.355</td>\n",
       "      <td>7.206</td>\n",
       "      <td>-8.977</td>\n",
       "      <td>1</td>\n",
       "    </tr>\n",
       "    <tr>\n",
       "      <th>3</th>\n",
       "      <td>-10.000</td>\n",
       "      <td>7.758</td>\n",
       "      <td>-2.670</td>\n",
       "      <td>-8.880</td>\n",
       "      <td>-1.099</td>\n",
       "      <td>-9.183</td>\n",
       "      <td>-4.086</td>\n",
       "      <td>8.962</td>\n",
       "      <td>5.841</td>\n",
       "      <td>1</td>\n",
       "    </tr>\n",
       "    <tr>\n",
       "      <th>4</th>\n",
       "      <td>8.464</td>\n",
       "      <td>1.762</td>\n",
       "      <td>2.729</td>\n",
       "      <td>2.724</td>\n",
       "      <td>8.155</td>\n",
       "      <td>6.096</td>\n",
       "      <td>-2.844</td>\n",
       "      <td>9.800</td>\n",
       "      <td>3.302</td>\n",
       "      <td>-1</td>\n",
       "    </tr>\n",
       "  </tbody>\n",
       "</table>\n",
       "</div>"
      ],
      "text/plain": [
       "       x1     x2     x3     x4     x5     x6     x7     x8     x9  y\n",
       "0   8.105 -3.500  4.769  4.541 -9.829  5.252  3.838 -3.408 -4.824 -1\n",
       "1  -6.273 -2.097  9.404  1.143  3.487 -5.206  0.061  5.024 -6.687  1\n",
       "2   1.624 -1.173  4.260 -3.607 -6.632  4.431 -8.355  7.206 -8.977  1\n",
       "3 -10.000  7.758 -2.670 -8.880 -1.099 -9.183 -4.086  8.962  5.841  1\n",
       "4   8.464  1.762  2.729  2.724  8.155  6.096 -2.844  9.800  3.302 -1"
      ]
     },
     "execution_count": 8,
     "metadata": {},
     "output_type": "execute_result"
    }
   ],
   "source": [
    "import pandas as pd\n",
    "columns = ['x1','x2','x3','x4','x5','x6','x7','x8','x9','y']\n",
    "data_train = pd.read_csv(\"hw2_train.dat\", header=None, delimiter=r\"\\s+\", names=columns)\n",
    "data_test = pd.read_csv(\"hw2_test.dat\", header=None, delimiter=r\"\\s+\", names=columns)\n",
    "data_train.head()"
   ]
  },
  {
   "cell_type": "code",
   "execution_count": 20,
   "metadata": {},
   "outputs": [
    {
     "data": {
      "text/plain": [
       "0.25"
      ]
     },
     "execution_count": 20,
     "metadata": {},
     "output_type": "execute_result"
    }
   ],
   "source": [
    "def multi_decision_stump(data):\n",
    "    y = data.iloc[:, -1].values\n",
    "    X = data.iloc[:, :-1].values\n",
    "    n, m = X.shape\n",
    "    s = np.zeros(m)\n",
    "    theta = np.zeros(m)\n",
    "    e_in = np.zeros(m)\n",
    "    for i in np.arange(m):\n",
    "        s[i], theta[i], e_in[i] = decision_stump(X[:, i], y)\n",
    "    indx = np.argmin(e_in)\n",
    "    return indx, s[indx], theta[indx], e_in[indx]\n",
    "\n",
    "indx, s, theta, e_in = multi_decision_stump(data_train)\n",
    "e_in"
   ]
  },
  {
   "cell_type": "code",
   "execution_count": 22,
   "metadata": {},
   "outputs": [
    {
     "data": {
      "text/plain": [
       "0.355"
      ]
     },
     "execution_count": 22,
     "metadata": {},
     "output_type": "execute_result"
    }
   ],
   "source": [
    "pred = s*np.sign(data_test.iloc[:, indx]-theta)\n",
    "pred[pred == 0] = -1\n",
    "y_test = data_test.iloc[:, -1]\n",
    "e_out = (pred != y_test).astype(int).sum()/y_test.shape[0]\n",
    "e_out"
   ]
  },
  {
   "cell_type": "code",
   "execution_count": null,
   "metadata": {},
   "outputs": [],
   "source": []
  }
 ],
 "metadata": {
  "kernelspec": {
   "display_name": "Python 3",
   "language": "python",
   "name": "python3"
  },
  "language_info": {
   "codemirror_mode": {
    "name": "ipython",
    "version": 3
   },
   "file_extension": ".py",
   "mimetype": "text/x-python",
   "name": "python",
   "nbconvert_exporter": "python",
   "pygments_lexer": "ipython3",
   "version": "3.6.8"
  }
 },
 "nbformat": 4,
 "nbformat_minor": 2
}
