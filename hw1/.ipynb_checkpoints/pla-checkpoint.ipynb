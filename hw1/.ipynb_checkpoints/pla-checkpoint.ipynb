{
 "cells": [
  {
   "cell_type": "code",
   "execution_count": 1,
   "metadata": {},
   "outputs": [],
   "source": [
    "import numpy as np\n",
    "import pandas as pd"
   ]
  },
  {
   "cell_type": "code",
   "execution_count": 4,
   "metadata": {},
   "outputs": [
    {
     "data": {
      "text/html": [
       "<div>\n",
       "<style scoped>\n",
       "    .dataframe tbody tr th:only-of-type {\n",
       "        vertical-align: middle;\n",
       "    }\n",
       "\n",
       "    .dataframe tbody tr th {\n",
       "        vertical-align: top;\n",
       "    }\n",
       "\n",
       "    .dataframe thead th {\n",
       "        text-align: right;\n",
       "    }\n",
       "</style>\n",
       "<table border=\"1\" class=\"dataframe\">\n",
       "  <thead>\n",
       "    <tr style=\"text-align: right;\">\n",
       "      <th></th>\n",
       "      <th>x1</th>\n",
       "      <th>x2</th>\n",
       "      <th>x3</th>\n",
       "      <th>x4</th>\n",
       "      <th>y</th>\n",
       "    </tr>\n",
       "  </thead>\n",
       "  <tbody>\n",
       "    <tr>\n",
       "      <th>0</th>\n",
       "      <td>0.97681</td>\n",
       "      <td>0.107230</td>\n",
       "      <td>0.64385</td>\n",
       "      <td>0.29556</td>\n",
       "      <td>1</td>\n",
       "    </tr>\n",
       "    <tr>\n",
       "      <th>1</th>\n",
       "      <td>0.67194</td>\n",
       "      <td>0.241800</td>\n",
       "      <td>0.83075</td>\n",
       "      <td>0.42741</td>\n",
       "      <td>1</td>\n",
       "    </tr>\n",
       "    <tr>\n",
       "      <th>2</th>\n",
       "      <td>0.20619</td>\n",
       "      <td>0.233210</td>\n",
       "      <td>0.81004</td>\n",
       "      <td>0.98691</td>\n",
       "      <td>1</td>\n",
       "    </tr>\n",
       "    <tr>\n",
       "      <th>3</th>\n",
       "      <td>0.51583</td>\n",
       "      <td>0.055814</td>\n",
       "      <td>0.92274</td>\n",
       "      <td>0.75797</td>\n",
       "      <td>1</td>\n",
       "    </tr>\n",
       "    <tr>\n",
       "      <th>4</th>\n",
       "      <td>0.70893</td>\n",
       "      <td>0.108360</td>\n",
       "      <td>0.33951</td>\n",
       "      <td>0.77058</td>\n",
       "      <td>1</td>\n",
       "    </tr>\n",
       "  </tbody>\n",
       "</table>\n",
       "</div>"
      ],
      "text/plain": [
       "        x1        x2       x3       x4  y\n",
       "0  0.97681  0.107230  0.64385  0.29556  1\n",
       "1  0.67194  0.241800  0.83075  0.42741  1\n",
       "2  0.20619  0.233210  0.81004  0.98691  1\n",
       "3  0.51583  0.055814  0.92274  0.75797  1\n",
       "4  0.70893  0.108360  0.33951  0.77058  1"
      ]
     },
     "execution_count": 4,
     "metadata": {},
     "output_type": "execute_result"
    }
   ],
   "source": [
    "data = pd.read_csv(\"hw1_15_train.dat\", header=None, delimiter=r\"\\s+\", names=['x1','x2','x3','x4','y'])\n",
    "data.head()"
   ]
  },
  {
   "cell_type": "code",
   "execution_count": 7,
   "metadata": {},
   "outputs": [],
   "source": [
    "def get_x(data):\n",
    "    data.insert(0, 'x0', 1)\n",
    "    return np.array(data.iloc[:, :-1])\n",
    "\n",
    "def get_y(data):\n",
    "    return np.array(data.iloc[:, -1])"
   ]
  },
  {
   "cell_type": "code",
   "execution_count": 8,
   "metadata": {},
   "outputs": [
    {
     "name": "stdout",
     "output_type": "stream",
     "text": [
      "shapes:\n",
      "X: (400, 5)\n",
      "y: (400,)\n",
      "w: (5,)\n"
     ]
    }
   ],
   "source": [
    "X = get_x(data)\n",
    "y = get_y(data)\n",
    "#w = np.zeros(X.shape[1])\n",
    "print('shapes:\\nX: {}\\ny: {}\\nw: {}'.format(X.shape, y.shape, w.shape))"
   ]
  },
  {
   "cell_type": "code",
   "execution_count": 60,
   "metadata": {},
   "outputs": [],
   "source": [
    "w = np.zeros(X.shape[1])"
   ]
  },
  {
   "cell_type": "code",
   "execution_count": 58,
   "metadata": {},
   "outputs": [],
   "source": [
    "def signal(a):\n",
    "    return 1 if a>0 else -1\n",
    "\n",
    "#visiting examples in the naive cycle using the order of examples in the data set\n",
    "def pla(w, X, y, eta=1, cycle=np.arange(400)):\n",
    "    conflict = True\n",
    "    iterations = 0\n",
    "    i = 0\n",
    "    update_counter = 0\n",
    "    while conflict:\n",
    "        indx = cycle[i]\n",
    "        predict = X[indx, :] @ w\n",
    "        if signal(predict) != y[indx]:\n",
    "            w = w + eta*y[indx]*X[indx, :]\n",
    "            update_counter += 1\n",
    "            iterations = 0\n",
    "        else:\n",
    "            iterations += 1\n",
    "        i = (i+1) % y.shape[0]\n",
    "        if iterations == y.shape[0]:\n",
    "            conflict = False\n",
    "    return update_counter\n",
    "#print(pla(w, X, y))\n",
    "\n",
    "#visiting examples in fixed, pre-determined random cycles throughout the algorithm\n",
    "#repeat your experiment for 2000 times, each with a different random seed. \n",
    "def train_2000(w, X, y):\n",
    "    total_update_counter = 0\n",
    "    for i in np.arange(2000):\n",
    "        np.random.seed(np.random.randint(10000))\n",
    "        cycle = np.random.permutation(400)\n",
    "        total_update_counter += pla(w, X, y, 0.5, cycle)\n",
    "    return total_update_counter/2000\n",
    "#train_2000(w, X, y)\n"
   ]
  },
  {
   "cell_type": "code",
   "execution_count": 61,
   "metadata": {},
   "outputs": [
    {
     "data": {
      "text/plain": [
       "45"
      ]
     },
     "execution_count": 61,
     "metadata": {},
     "output_type": "execute_result"
    }
   ],
   "source": []
  },
  {
   "cell_type": "code",
   "execution_count": 57,
   "metadata": {},
   "outputs": [
    {
     "data": {
      "text/plain": [
       "array([-3.       ,  3.0841436, -1.583081 ,  2.391305 ,  4.5287635])"
      ]
     },
     "execution_count": 57,
     "metadata": {},
     "output_type": "execute_result"
    }
   ],
   "source": []
  },
  {
   "cell_type": "code",
   "execution_count": null,
   "metadata": {},
   "outputs": [],
   "source": []
  }
 ],
 "metadata": {
  "kernelspec": {
   "display_name": "Python 3",
   "language": "python",
   "name": "python3"
  },
  "language_info": {
   "codemirror_mode": {
    "name": "ipython",
    "version": 3
   },
   "file_extension": ".py",
   "mimetype": "text/x-python",
   "name": "python",
   "nbconvert_exporter": "python",
   "pygments_lexer": "ipython3",
   "version": "3.6.8"
  }
 },
 "nbformat": 4,
 "nbformat_minor": 2
}
